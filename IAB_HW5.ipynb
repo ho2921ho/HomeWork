{
  "nbformat": 4,
  "nbformat_minor": 0,
  "metadata": {
    "colab": {
      "name": "IAB_HW5.ipynb",
      "version": "0.3.2",
      "provenance": [],
      "collapsed_sections": []
    },
    "kernelspec": {
      "display_name": "Python 2",
      "language": "python",
      "name": "python2"
    }
  },
  "cells": [
    {
      "cell_type": "markdown",
      "metadata": {
        "id": "K9JzWDhUXkh6",
        "colab_type": "text"
      },
      "source": [
        "Copyright (C) 2019 Software Platform Lab, Seoul National University\n",
        "\n",
        "Licensed under the Apache License, Version 2.0 (the \"License\");\n",
        "you may not use this file except in compliance with the License.\n",
        "You may obtain a copy of the License at\n",
        "    http://www.apache.org/licenses/LICENSE-2.0\n",
        "Unless required by applicable law or agreed to in writing, software\n",
        "distributed under the License is distributed on an \"AS IS\" BASIS,\n",
        "WITHOUT WARRANTIES OR CONDITIONS OF ANY KIND, either express or implied.\n",
        "See the License for the specific language governing permissions and\n",
        "limitations under the License.\n",
        "\n",
        "\n",
        "## Colab Spark Setup"
      ]
    },
    {
      "cell_type": "code",
      "metadata": {
        "id": "w82WXCR2VCcV",
        "colab_type": "code",
        "colab": {
          "base_uri": "https://localhost:8080/",
          "height": 593
        },
        "outputId": "2a638b03-31d2-44de-a9f7-9074bd76598e"
      },
      "source": [
        "!apt-get update\n",
        "!apt-get install openjdk-8-jdk-headless -q\n",
        "!curl http://mirror.cogentco.com/pub/apache/spark/spark-2.4.3/spark-2.4.3-bin-hadoop2.7.tgz --output spark-2.4.3-bin-hadoop2.7.tgz\n",
        "!tar xf spark-2.4.3-bin-hadoop2.7.tgz\n",
        "!pip install -q findspark"
      ],
      "execution_count": 1,
      "outputs": [
        {
          "output_type": "stream",
          "text": [
            "\r0% [Working]\r            \rIgn:1 https://developer.download.nvidia.com/compute/cuda/repos/ubuntu1804/x86_64  InRelease\n",
            "\r0% [Connecting to archive.ubuntu.com (91.189.88.162)] [Waiting for headers] [Co\r                                                                               \rGet:2 https://cloud.r-project.org/bin/linux/ubuntu bionic-cran35/ InRelease [3,609 B]\n",
            "\r0% [Connecting to archive.ubuntu.com (91.189.88.162)] [Waiting for headers] [2 \r                                                                               \rGet:3 http://security.ubuntu.com/ubuntu bionic-security InRelease [88.7 kB]\n",
            "\r0% [Waiting for headers] [3 InRelease 2,586 B/88.7 kB 3%] [2 InRelease 0 B/3,60\r                                                                               \rHit:4 http://ppa.launchpad.net/graphics-drivers/ppa/ubuntu bionic InRelease\n",
            "\r0% [Waiting for headers] [3 InRelease 14.2 kB/88.7 kB 16%] [2 InRelease 0 B/3,6\r0% [4 InRelease gpgv 21.3 kB] [Waiting for headers] [3 InRelease 14.2 kB/88.7 k\r                                                                               \rIgn:5 https://developer.download.nvidia.com/compute/machine-learning/repos/ubuntu1804/x86_64  InRelease\n",
            "\r0% [4 InRelease gpgv 21.3 kB] [Waiting for headers] [3 InRelease 14.2 kB/88.7 k\r                                                                               \rGet:6 https://developer.download.nvidia.com/compute/cuda/repos/ubuntu1804/x86_64  Release [564 B]\n",
            "\r0% [4 InRelease gpgv 21.3 kB] [Waiting for headers] [3 InRelease 14.2 kB/88.7 k\r                                                                               \rHit:7 https://developer.download.nvidia.com/compute/machine-learning/repos/ubuntu1804/x86_64  Release\n",
            "\r0% [4 InRelease gpgv 21.3 kB] [Waiting for headers] [3 InRelease 14.2 kB/88.7 k\r                                                                               \rHit:8 http://archive.ubuntu.com/ubuntu bionic InRelease\n",
            "Get:9 https://developer.download.nvidia.com/compute/cuda/repos/ubuntu1804/x86_64  Release.gpg [801 B]\n",
            "Get:10 http://archive.ubuntu.com/ubuntu bionic-updates InRelease [88.7 kB]\n",
            "Get:11 http://ppa.launchpad.net/marutter/c2d4u3.5/ubuntu bionic InRelease [15.4 kB]\n",
            "Hit:12 http://archive.ubuntu.com/ubuntu bionic-backports InRelease\n",
            "Get:14 https://developer.download.nvidia.com/compute/cuda/repos/ubuntu1804/x86_64  Packages [85.5 kB]\n",
            "Get:15 http://ppa.launchpad.net/marutter/c2d4u3.5/ubuntu bionic/main Sources [1,643 kB]\n",
            "Get:16 http://security.ubuntu.com/ubuntu bionic-security/main amd64 Packages [451 kB]\n",
            "Get:17 http://archive.ubuntu.com/ubuntu bionic-updates/universe amd64 Packages [1,199 kB]\n",
            "Get:18 http://security.ubuntu.com/ubuntu bionic-security/universe amd64 Packages [310 kB]\n",
            "Get:19 http://ppa.launchpad.net/marutter/c2d4u3.5/ubuntu bionic/main amd64 Packages [788 kB]\n",
            "Get:20 http://archive.ubuntu.com/ubuntu bionic-updates/main amd64 Packages [803 kB]\n",
            "Fetched 5,479 kB in 3s (1,756 kB/s)\n",
            "Reading package lists... Done\n",
            "Reading package lists...\n",
            "Building dependency tree...\n",
            "Reading state information...\n",
            "openjdk-8-jdk-headless is already the newest version (8u212-b03-0ubuntu1.18.04.1).\n",
            "The following package was automatically installed and is no longer required:\n",
            "  libnvidia-common-410\n",
            "Use 'apt autoremove' to remove it.\n",
            "0 upgraded, 0 newly installed, 0 to remove and 9 not upgraded.\n",
            "  % Total    % Received % Xferd  Average Speed   Time    Time     Time  Current\n",
            "                                 Dload  Upload   Total   Spent    Left  Speed\n",
            "100  219M  100  219M    0     0  83.5M      0  0:00:02  0:00:02 --:--:-- 83.5M\n"
          ],
          "name": "stdout"
        }
      ]
    },
    {
      "cell_type": "code",
      "metadata": {
        "id": "sSL4Z8LJHp4F",
        "colab_type": "code",
        "colab": {}
      },
      "source": [
        "import os\n",
        "os.environ[\"JAVA_HOME\"] = \"/usr/lib/jvm/java-8-openjdk-amd64\"\n",
        "os.environ[\"SPARK_HOME\"] = \"/content/spark-2.4.3-bin-hadoop2.7\""
      ],
      "execution_count": 0,
      "outputs": []
    },
    {
      "cell_type": "markdown",
      "metadata": {
        "id": "X-Pvn8rkXuHD",
        "colab_type": "text"
      },
      "source": [
        "## Wikipedia dataset sample\n",
        "\n",
        "This time we're not using HDFS to load the data. Sample data are loaded by Python code directly.\n",
        "\n",
        "The data has four fields: project, title, pageview count and size."
      ]
    },
    {
      "cell_type": "code",
      "metadata": {
        "id": "fe9CpOJcPPfb",
        "colab_type": "code",
        "colab": {}
      },
      "source": [
        "wikipedia_data_sample = [\"commons.m File:Gemblong.JPG 1 9717\"\n",
        ",\"pl Beata_Tyszkiewicz 10 207378\"\n",
        ",\"en Special:RecentChangesLinked/Roswell_(TV_series) 1 14617\"\n",
        ",\"de Grafische_Benutzeroberfl%C3%A4che 1 22549\"\n",
        ",\"en Simeon_I_of_Bulgaria 5 385793\"\n",
        ",\"en Rainbow_Six_(novel) 8 122792\"\n",
        ",\"es Pediatr%C3%ADa 5 73598\"\n",
        ",\"sv Ett_uts%C3%B6kt_universum 1 9499\"\n",
        ",\"en Video_game_content_rating_system 4 112324\"\n",
        ",\"es Yuno_Gasai 2 55260\"\n",
        ",\"en File:Georg_Wilhelm_Friedrich_Hegel00.jpg 1 43395\"\n",
        ",\"en Anestia_ombrophanes 1 8881\"\n",
        ",\"et Seitse 2 84874\"\n",
        ",\"en And_I_Am_Telling_You_I%27m_Not_Going 4 85690\"\n",
        ",\"he %D7%A4%D7%A8%D7%93%D7%99%D7%92%D7%9E%D7%94 1 13887\"\n",
        ",\"zh File:Pictogram_voting_keep-green.svg 1 15106\"\n",
        ",\"sv Special:Senaste_relaterade_%C3%A4ndringar/Homestead,_Florida 1 7677\"\n",
        ",\"pt Categoria:Ambientes_de_desenvolvimento_integrado_livres 1 8151\"\n",
        ",\"de.voy Plattensee 1 43748\"\n",
        ",\"en Sia 1 8938\"\n",
        ",\"en Category:Toronto_Toros_players 2 0\"\n",
        ",\"en Special:Export/Helsinki_Accords 1 19899\"\n",
        ",\"xh Special:Contributions/Kpeterzell 1 5883\"\n",
        ",\"nl Sia 1 0\"\n",
        ",\"no Sia 5 87075\"\n",
        ",\"en Special:Contributions/2.31.218.202 1 7402\"\n",
        ",\"es Sia 1 10329\"\n",
        ",\"de Datei:BSicon_uhKBHFe.svg 1 9786\"\n",
        ",\"en Randolph_County,_Alabama 1 21431\"\n",
        ",\"es Woodkid 3 70494\"\n",
        ",\"en Tu_Bishvat 3 56438\"\n",
        ",\"cs Radiohead 1 14325\"\n",
        ",\"es Naturaleza_sangre 1 9286\"\n",
        ",\"en Anatolia_(disambiguation) 1 7980\"\n",
        ",\"pt Woodkid 1 8982\"\n",
        ",\"pt Titanoboa_cerrejonensis 5 64540\"\n",
        ",\"commons.m Woodkid 1 19278\"\n",
        ",\"fi Matti_Inkinen 1 10138\"\n",
        ",\"ja %E3%83%95%E3%82%A1%E3%82%A4%E3%83%AB:Esfahan_(Iran)_Emam_Mosque.JPG 1 33168\"\n",
        ",\"en Psicobloc 1 12739\"\n",
        ",\"en Macael,_Spain 1 12658\"\n",
        ",\"fa Ryuichi_Sakamoto 1 22855\"\n",
        ",\"fr Sp%C3%A9cial:Pages_li%C3%A9es/Fichier:Wiki-ezokuroten5.jpg 1 21955\"\n",
        ",\"nl Overleg_gebruiker:82.171.157.232 1 0\"\n",
        ",\"en Thomas_%26_Mack_Center 2 41010\"\n",
        ",\"en Warren_Beatty 49 2631986\"\n",
        ",\"uz Auberville 1 11401\"\n",
        ",\"es Naturaleza_sangrea 10 9286\"\n",
        ",\"pt Queima_de_sutis 2 8982\"]"
      ],
      "execution_count": 0,
      "outputs": []
    },
    {
      "cell_type": "code",
      "metadata": {
        "id": "6n8go8ojHp_E",
        "colab_type": "code",
        "colab": {}
      },
      "source": [
        "import findspark\n",
        "\n",
        "findspark.init()\n",
        "\n",
        "from pyspark.sql import SparkSession\n",
        "\n",
        "ss = SparkSession.builder.master(\"local[*]\").getOrCreate()\n",
        "sc = ss.sparkContext\n",
        "\n",
        "# Parallelize the data and split into columns\n",
        "lines = sc.parallelize(wikipedia_data_sample)\n",
        "columns = lines.map(lambda line: tuple(line.split(\" \")))"
      ],
      "execution_count": 0,
      "outputs": []
    },
    {
      "cell_type": "markdown",
      "metadata": {
        "id": "KgEM6fA2YaPz",
        "colab_type": "text"
      },
      "source": [
        "## Problem 1. SparkSQL \n"
      ]
    },
    {
      "cell_type": "code",
      "metadata": {
        "id": "Z650qgjHTFLM",
        "colab_type": "code",
        "colab": {}
      },
      "source": [
        "# Create a Spark DataFrame from wikipedia_data_sample (equivalent of an 'SQL table' in Spark)\n",
        "df = ss.createDataFrame(columns, ['project', 'title', 'count', 'size'])\n",
        "\n",
        "# Create a table view called \"WikipediaTable\"\n",
        "df.createOrReplaceTempView(\"WikipediaTable\")"
      ],
      "execution_count": 0,
      "outputs": []
    },
    {
      "cell_type": "code",
      "metadata": {
        "id": "qyH2XNM7uVpp",
        "colab_type": "code",
        "colab": {
          "base_uri": "https://localhost:8080/",
          "height": 179
        },
        "outputId": "f313dda1-96f7-4348-c4c2-b897c4b6ff37"
      },
      "source": [
        "selected = ss.sql(\"SELECT project,title,size FROM WikipediaTable \\\n",
        "WHERE project == 'en' and size < 10000 and size >= 1000 \\\n",
        "ORDER BY title\")\n",
        "\n",
        "selected.show()"
      ],
      "execution_count": 17,
      "outputs": [
        {
          "output_type": "stream",
          "text": [
            "+-------+--------------------+----+\n",
            "|project|               title|size|\n",
            "+-------+--------------------+----+\n",
            "|     en|Anatolia_(disambi...|7980|\n",
            "|     en| Anestia_ombrophanes|8881|\n",
            "|     en|                 Sia|8938|\n",
            "|     en|Special:Contribut...|7402|\n",
            "+-------+--------------------+----+\n",
            "\n"
          ],
          "name": "stdout"
        }
      ]
    },
    {
      "cell_type": "markdown",
      "metadata": {
        "id": "sqwahN_tTnmp",
        "colab_type": "text"
      },
      "source": [
        "## Problem 2. SparkSQL "
      ]
    },
    {
      "cell_type": "code",
      "metadata": {
        "id": "Aw3J1GToUxl7",
        "colab_type": "code",
        "colab": {}
      },
      "source": [
        "title_owner = [\"Woodkid Lila\"\n",
        ",\"Sia Jane\"\n",
        ",\"Ryuichi_Sakamoto Sam\"]\n",
        "\n",
        "lines1 = sc.parallelize(title_owner)\n",
        "columns1 = lines1.map(lambda line: tuple(line.split(\" \")))\n",
        "\n",
        "df1 = ss.createDataFrame(columns1, ['title', 'owner'])\n",
        "df1.createOrReplaceTempView(\"OwnerTable\")\n"
      ],
      "execution_count": 0,
      "outputs": []
    },
    {
      "cell_type": "code",
      "metadata": {
        "id": "12CN6Gceu41o",
        "colab_type": "code",
        "colab": {
          "base_uri": "https://localhost:8080/",
          "height": 161
        },
        "outputId": "f41daef5-4238-486a-b624-10e44da45550"
      },
      "source": [
        "selected = ss.sql(\"SELECT OwnerTable.owner, MEAN(WikipediaTable.count) as avg_count_column FROM WikipediaTable \\\n",
        "INNER JOIN OwnerTable ON WikipediaTable.title=OwnerTable.title \\\n",
        "GROUP BY OwnerTable.owner\")\n",
        "                   \n",
        "selected.show()"
      ],
      "execution_count": 37,
      "outputs": [
        {
          "output_type": "stream",
          "text": [
            "+-----+------------------+\n",
            "|owner|  avg_count_column|\n",
            "+-----+------------------+\n",
            "| Lila|1.6666666666666667|\n",
            "|  Sam|               1.0|\n",
            "| Jane|               2.0|\n",
            "+-----+------------------+\n",
            "\n"
          ],
          "name": "stdout"
        }
      ]
    },
    {
      "cell_type": "markdown",
      "metadata": {
        "id": "dAf-IHGOW5GV",
        "colab_type": "text"
      },
      "source": [
        "## Problem #3 SparkRDD "
      ]
    },
    {
      "cell_type": "code",
      "metadata": {
        "id": "qAlpJSP4W6xh",
        "colab_type": "code",
        "colab": {
          "base_uri": "https://localhost:8080/",
          "height": 899
        },
        "outputId": "0db7d6ff-958d-4eda-8adb-77aa2e05836f"
      },
      "source": [
        "project_count_tuples = columns.map(lambda t: (t[0], long(t[2])))\n",
        "project_count_tuples.collect()"
      ],
      "execution_count": 38,
      "outputs": [
        {
          "output_type": "execute_result",
          "data": {
            "text/plain": [
              "[('commons.m', 1L),\n",
              " ('pl', 10L),\n",
              " ('en', 1L),\n",
              " ('de', 1L),\n",
              " ('en', 5L),\n",
              " ('en', 8L),\n",
              " ('es', 5L),\n",
              " ('sv', 1L),\n",
              " ('en', 4L),\n",
              " ('es', 2L),\n",
              " ('en', 1L),\n",
              " ('en', 1L),\n",
              " ('et', 2L),\n",
              " ('en', 4L),\n",
              " ('he', 1L),\n",
              " ('zh', 1L),\n",
              " ('sv', 1L),\n",
              " ('pt', 1L),\n",
              " ('de.voy', 1L),\n",
              " ('en', 1L),\n",
              " ('en', 2L),\n",
              " ('en', 1L),\n",
              " ('xh', 1L),\n",
              " ('nl', 1L),\n",
              " ('no', 5L),\n",
              " ('en', 1L),\n",
              " ('es', 1L),\n",
              " ('de', 1L),\n",
              " ('en', 1L),\n",
              " ('es', 3L),\n",
              " ('en', 3L),\n",
              " ('cs', 1L),\n",
              " ('es', 1L),\n",
              " ('en', 1L),\n",
              " ('pt', 1L),\n",
              " ('pt', 5L),\n",
              " ('commons.m', 1L),\n",
              " ('fi', 1L),\n",
              " ('ja', 1L),\n",
              " ('en', 1L),\n",
              " ('en', 1L),\n",
              " ('fa', 1L),\n",
              " ('fr', 1L),\n",
              " ('nl', 1L),\n",
              " ('en', 2L),\n",
              " ('en', 49L),\n",
              " ('uz', 1L),\n",
              " ('es', 10L),\n",
              " ('pt', 2L)]"
            ]
          },
          "metadata": {
            "tags": []
          },
          "execution_count": 38
        }
      ]
    },
    {
      "cell_type": "code",
      "metadata": {
        "id": "R0uKW7-SyTAG",
        "colab_type": "code",
        "colab": {}
      },
      "source": [
        "project_count_list = sorted(list(set(project_count_tuples.collect())))\n",
        "\n",
        "from collections import defaultdict as dd\n",
        "\n",
        "project_dict = dd(list)\n",
        "\n",
        "for project,count in project_count_list:\n",
        "  project_dict[project].append(count)"
      ],
      "execution_count": 0,
      "outputs": []
    },
    {
      "cell_type": "code",
      "metadata": {
        "id": "b8ve1-ab1e5x",
        "colab_type": "code",
        "colab": {}
      },
      "source": [
        "def median(lst):\n",
        "    n = len(lst)\n",
        "    if n < 1:\n",
        "            return None\n",
        "    if n % 2 == 1:\n",
        "            return lst[n//2]\n",
        "    else:\n",
        "            return sum(lst[n//2-1:n//2+1])/2.0"
      ],
      "execution_count": 0,
      "outputs": []
    },
    {
      "cell_type": "code",
      "metadata": {
        "id": "GdI1jdFW3W9c",
        "colab_type": "code",
        "colab": {
          "base_uri": "https://localhost:8080/",
          "height": 377
        },
        "outputId": "92ef08fa-8b50-413e-a6fd-540d1c7e6a69"
      },
      "source": [
        "for (i,j) in project_dict.items():\n",
        "  print('median of project \"{}\" is {}'.format(i,median(j)))"
      ],
      "execution_count": 82,
      "outputs": [
        {
          "output_type": "stream",
          "text": [
            "median of project \"fr\" is 1\n",
            "median of project \"de.voy\" is 1\n",
            "median of project \"nl\" is 1\n",
            "median of project \"uz\" is 1\n",
            "median of project \"pt\" is 2\n",
            "median of project \"no\" is 5\n",
            "median of project \"de\" is 1\n",
            "median of project \"sv\" is 1\n",
            "median of project \"fa\" is 1\n",
            "median of project \"en\" is 4\n",
            "median of project \"commons.m\" is 1\n",
            "median of project \"pl\" is 10\n",
            "median of project \"fi\" is 1\n",
            "median of project \"cs\" is 1\n",
            "median of project \"et\" is 2\n",
            "median of project \"xh\" is 1\n",
            "median of project \"zh\" is 1\n",
            "median of project \"ja\" is 1\n",
            "median of project \"es\" is 3\n",
            "median of project \"he\" is 1\n"
          ],
          "name": "stdout"
        }
      ]
    },
    {
      "cell_type": "markdown",
      "metadata": {
        "id": "ZwM0rw7vXzxD",
        "colab_type": "text"
      },
      "source": [
        "## Problem #4 SparkRDD "
      ]
    },
    {
      "cell_type": "code",
      "metadata": {
        "id": "n4oIDIEIX2XL",
        "colab_type": "code",
        "colab": {}
      },
      "source": [
        "data = [\"1 2 1.0\"\n",
        ",\"1 3 2.0\"\n",
        ",\"1 4 3.0\"\n",
        ",\"2 3 1.0\"\n",
        ",\"2 4 3.0\"\n",
        ",\"2 5 5.0\"]\n",
        "\n",
        "########## ANSWER ##########\n"
      ],
      "execution_count": 0,
      "outputs": []
    },
    {
      "cell_type": "markdown",
      "metadata": {
        "id": "_MbiRFq3M-WW",
        "colab_type": "text"
      },
      "source": [
        "## Problem #5 Calculating Pi"
      ]
    },
    {
      "cell_type": "code",
      "metadata": {
        "id": "kGGFBBrXNBm8",
        "colab_type": "code",
        "colab": {}
      },
      "source": [
        "from random import random\n",
        "\n",
        "spark = SparkSession.builder.appName(\"Spark Pi\").getOrCreate()\n",
        "\n",
        "partitions = 2\n",
        "n = 1000000 * partitions\n",
        "\n",
        "def f(_):\n",
        "  ## ANSWER ##\n",
        "\n",
        "\n",
        "# Generate n random dots and for each dot, calculate its distance from (0, 0).\n",
        "# Count the number of dots whose distance is less or equal to 1\n",
        "num_dots_inside_circle = spark.sparkContext.parallelize(range(1, n + 1), partitions).map(f).reduce(lambda a, b: a + b)\n",
        "\n",
        "      \n",
        "print(\"Pi is roughly %f\" % (4.0 * num_dots_inside_circle / n))"
      ],
      "execution_count": 0,
      "outputs": []
    },
    {
      "cell_type": "code",
      "metadata": {
        "id": "NA79VywDUd55",
        "colab_type": "code",
        "colab": {}
      },
      "source": [
        ""
      ],
      "execution_count": 0,
      "outputs": []
    }
  ]
}