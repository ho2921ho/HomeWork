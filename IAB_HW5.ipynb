{
  "nbformat": 4,
  "nbformat_minor": 0,
  "metadata": {
    "colab": {
      "name": "IAB_HW5.ipynb",
      "version": "0.3.2",
      "provenance": [],
      "collapsed_sections": []
    },
    "kernelspec": {
      "name": "python2",
      "display_name": "Python 2"
    }
  },
  "cells": [
    {
      "cell_type": "markdown",
      "metadata": {
        "colab_type": "text",
        "id": "K9JzWDhUXkh6"
      },
      "source": [
        "Copyright (C) 2019 Software Platform Lab, Seoul National University\n",
        "\n",
        "Licensed under the Apache License, Version 2.0 (the \"License\");\n",
        "you may not use this file except in compliance with the License.\n",
        "You may obtain a copy of the License at\n",
        "    http://www.apache.org/licenses/LICENSE-2.0\n",
        "Unless required by applicable law or agreed to in writing, software\n",
        "distributed under the License is distributed on an \"AS IS\" BASIS,\n",
        "WITHOUT WARRANTIES OR CONDITIONS OF ANY KIND, either express or implied.\n",
        "See the License for the specific language governing permissions and\n",
        "limitations under the License.\n",
        "\n",
        "\n",
        "## Colab Spark Setup"
      ]
    },
    {
      "cell_type": "code",
      "metadata": {
        "colab_type": "code",
        "id": "w82WXCR2VCcV",
        "outputId": "fb871e22-f55b-469e-93f2-76394ec9e84a",
        "colab": {
          "base_uri": "https://localhost:8080/",
          "height": 431
        }
      },
      "source": [
        "!apt-get update\n",
        "!apt-get install openjdk-8-jdk-headless -q\n",
        "!curl http://mirror.cogentco.com/pub/apache/spark/spark-2.4.3/spark-2.4.3-bin-hadoop2.7.tgz --output spark-2.4.3-bin-hadoop2.7.tgz\n",
        "!tar xf spark-2.4.3-bin-hadoop2.7.tgz\n",
        "!pip install -q findspark"
      ],
      "execution_count": 3,
      "outputs": [
        {
          "output_type": "stream",
          "text": [
            "\r0% [Working]\r            \rIgn:1 https://developer.download.nvidia.com/compute/cuda/repos/ubuntu1804/x86_64  InRelease\n",
            "\r0% [Connecting to archive.ubuntu.com (91.189.88.149)] [Connecting to security.u\r                                                                               \rHit:2 https://cloud.r-project.org/bin/linux/ubuntu bionic-cran35/ InRelease\n",
            "\r0% [Connecting to archive.ubuntu.com (91.189.88.149)] [Connecting to security.u\r                                                                               \rIgn:3 https://developer.download.nvidia.com/compute/machine-learning/repos/ubuntu1804/x86_64  InRelease\n",
            "\r0% [Connecting to archive.ubuntu.com (91.189.88.149)] [Connecting to security.u\r0% [2 InRelease gpgv 3,609 B] [Connecting to archive.ubuntu.com (91.189.88.149)\r                                                                               \rHit:4 https://developer.download.nvidia.com/compute/cuda/repos/ubuntu1804/x86_64  Release\n",
            "\r0% [2 InRelease gpgv 3,609 B] [Connecting to archive.ubuntu.com (91.189.88.149)\r                                                                               \rHit:5 https://developer.download.nvidia.com/compute/machine-learning/repos/ubuntu1804/x86_64  Release\n",
            "\r0% [2 InRelease gpgv 3,609 B] [Connecting to archive.ubuntu.com (91.189.88.149)\r                                                                               \rHit:6 http://ppa.launchpad.net/graphics-drivers/ppa/ubuntu bionic InRelease\n",
            "Hit:7 http://archive.ubuntu.com/ubuntu bionic InRelease\n",
            "Hit:8 http://security.ubuntu.com/ubuntu bionic-security InRelease\n",
            "Hit:9 http://archive.ubuntu.com/ubuntu bionic-updates InRelease\n",
            "Hit:11 http://ppa.launchpad.net/marutter/c2d4u3.5/ubuntu bionic InRelease\n",
            "Hit:12 http://archive.ubuntu.com/ubuntu bionic-backports InRelease\n",
            "Reading package lists... Done\n",
            "Reading package lists...\n",
            "Building dependency tree...\n",
            "Reading state information...\n",
            "openjdk-8-jdk-headless is already the newest version (8u212-b03-0ubuntu1.18.04.1).\n",
            "The following package was automatically installed and is no longer required:\n",
            "  libnvidia-common-410\n",
            "Use 'apt autoremove' to remove it.\n",
            "0 upgraded, 0 newly installed, 0 to remove and 13 not upgraded.\n",
            "  % Total    % Received % Xferd  Average Speed   Time    Time     Time  Current\n",
            "                                 Dload  Upload   Total   Spent    Left  Speed\n",
            "100  219M  100  219M    0     0  32.4M      0  0:00:06  0:00:06 --:--:-- 36.9M\n"
          ],
          "name": "stdout"
        }
      ]
    },
    {
      "cell_type": "code",
      "metadata": {
        "colab_type": "code",
        "id": "sSL4Z8LJHp4F",
        "colab": {}
      },
      "source": [
        "import os\n",
        "os.environ[\"JAVA_HOME\"] = \"/usr/lib/jvm/java-8-openjdk-amd64\"\n",
        "os.environ[\"SPARK_HOME\"] = \"/content/spark-2.4.3-bin-hadoop2.7\""
      ],
      "execution_count": 0,
      "outputs": []
    },
    {
      "cell_type": "markdown",
      "metadata": {
        "colab_type": "text",
        "id": "X-Pvn8rkXuHD"
      },
      "source": [
        "## Wikipedia dataset sample\n",
        "\n",
        "This time we're not using HDFS to load the data. Sample data are loaded by Python code directly.\n",
        "\n",
        "The data has four fields: project, title, pageview count and size."
      ]
    },
    {
      "cell_type": "code",
      "metadata": {
        "colab_type": "code",
        "id": "fe9CpOJcPPfb",
        "colab": {}
      },
      "source": [
        "wikipedia_data_sample = [\"commons.m File:Gemblong.JPG 1 9717\"\n",
        ",\"pl Beata_Tyszkiewicz 10 207378\"\n",
        ",\"en Special:RecentChangesLinked/Roswell_(TV_series) 1 14617\"\n",
        ",\"de Grafische_Benutzeroberfl%C3%A4che 1 22549\"\n",
        ",\"en Simeon_I_of_Bulgaria 5 385793\"\n",
        ",\"en Rainbow_Six_(novel) 8 122792\"\n",
        ",\"es Pediatr%C3%ADa 5 73598\"\n",
        ",\"sv Ett_uts%C3%B6kt_universum 1 9499\"\n",
        ",\"en Video_game_content_rating_system 4 112324\"\n",
        ",\"es Yuno_Gasai 2 55260\"\n",
        ",\"en File:Georg_Wilhelm_Friedrich_Hegel00.jpg 1 43395\"\n",
        ",\"en Anestia_ombrophanes 1 8881\"\n",
        ",\"et Seitse 2 84874\"\n",
        ",\"en And_I_Am_Telling_You_I%27m_Not_Going 4 85690\"\n",
        ",\"he %D7%A4%D7%A8%D7%93%D7%99%D7%92%D7%9E%D7%94 1 13887\"\n",
        ",\"zh File:Pictogram_voting_keep-green.svg 1 15106\"\n",
        ",\"sv Special:Senaste_relaterade_%C3%A4ndringar/Homestead,_Florida 1 7677\"\n",
        ",\"pt Categoria:Ambientes_de_desenvolvimento_integrado_livres 1 8151\"\n",
        ",\"de.voy Plattensee 1 43748\"\n",
        ",\"en Sia 1 8938\"\n",
        ",\"en Category:Toronto_Toros_players 2 0\"\n",
        ",\"en Special:Export/Helsinki_Accords 1 19899\"\n",
        ",\"xh Special:Contributions/Kpeterzell 1 5883\"\n",
        ",\"nl Sia 1 0\"\n",
        ",\"no Sia 5 87075\"\n",
        ",\"en Special:Contributions/2.31.218.202 1 7402\"\n",
        ",\"es Sia 1 10329\"\n",
        ",\"de Datei:BSicon_uhKBHFe.svg 1 9786\"\n",
        ",\"en Randolph_County,_Alabama 1 21431\"\n",
        ",\"es Woodkid 3 70494\"\n",
        ",\"en Tu_Bishvat 3 56438\"\n",
        ",\"cs Radiohead 1 14325\"\n",
        ",\"es Naturaleza_sangre 1 9286\"\n",
        ",\"en Anatolia_(disambiguation) 1 7980\"\n",
        ",\"pt Woodkid 1 8982\"\n",
        ",\"pt Titanoboa_cerrejonensis 5 64540\"\n",
        ",\"commons.m Woodkid 1 19278\"\n",
        ",\"fi Matti_Inkinen 1 10138\"\n",
        ",\"ja %E3%83%95%E3%82%A1%E3%82%A4%E3%83%AB:Esfahan_(Iran)_Emam_Mosque.JPG 1 33168\"\n",
        ",\"en Psicobloc 1 12739\"\n",
        ",\"en Macael,_Spain 1 12658\"\n",
        ",\"fa Ryuichi_Sakamoto 1 22855\"\n",
        ",\"fr Sp%C3%A9cial:Pages_li%C3%A9es/Fichier:Wiki-ezokuroten5.jpg 1 21955\"\n",
        ",\"nl Overleg_gebruiker:82.171.157.232 1 0\"\n",
        ",\"en Thomas_%26_Mack_Center 2 41010\"\n",
        ",\"en Warren_Beatty 49 2631986\"\n",
        ",\"uz Auberville 1 11401\"\n",
        ",\"es Naturaleza_sangrea 10 9286\"\n",
        ",\"pt Queima_de_sutis 2 8982\"]"
      ],
      "execution_count": 0,
      "outputs": []
    },
    {
      "cell_type": "code",
      "metadata": {
        "colab_type": "code",
        "id": "6n8go8ojHp_E",
        "colab": {}
      },
      "source": [
        "import findspark\n",
        "\n",
        "findspark.init()\n",
        "\n",
        "from pyspark.sql import SparkSession\n",
        "\n",
        "ss = SparkSession.builder.master(\"local[*]\").getOrCreate()\n",
        "sc = ss.sparkContext\n",
        "\n",
        "# Parallelize the data and split into columns\n",
        "lines = sc.parallelize(wikipedia_data_sample)\n",
        "columns = lines.map(lambda line: tuple(line.split(\" \")))"
      ],
      "execution_count": 0,
      "outputs": []
    },
    {
      "cell_type": "markdown",
      "metadata": {
        "colab_type": "text",
        "id": "KgEM6fA2YaPz"
      },
      "source": [
        "## Problem 1. SparkSQL \n"
      ]
    },
    {
      "cell_type": "code",
      "metadata": {
        "colab_type": "code",
        "id": "Z650qgjHTFLM",
        "colab": {}
      },
      "source": [
        "# Create a Spark DataFrame from wikipedia_data_sample (equivalent of an 'SQL table' in Spark)\n",
        "df = ss.createDataFrame(columns, ['project', 'title', 'count', 'size'])\n",
        "\n",
        "# Create a table view called \"WikipediaTable\"\n",
        "df.createOrReplaceTempView(\"WikipediaTable\")"
      ],
      "execution_count": 0,
      "outputs": []
    },
    {
      "cell_type": "code",
      "metadata": {
        "colab_type": "code",
        "id": "qyH2XNM7uVpp",
        "outputId": "69214caa-06f4-4839-ccc0-bb9b8d500887",
        "colab": {
          "base_uri": "https://localhost:8080/",
          "height": 179
        }
      },
      "source": [
        "selected = ss.sql(\"SELECT project,title,size FROM WikipediaTable \\\n",
        "WHERE project == 'en' and size < 10000 and size >= 1000 \\\n",
        "ORDER BY title\")\n",
        "\n",
        "selected.show()"
      ],
      "execution_count": 8,
      "outputs": [
        {
          "output_type": "stream",
          "text": [
            "+-------+--------------------+----+\n",
            "|project|               title|size|\n",
            "+-------+--------------------+----+\n",
            "|     en|Anatolia_(disambi...|7980|\n",
            "|     en| Anestia_ombrophanes|8881|\n",
            "|     en|                 Sia|8938|\n",
            "|     en|Special:Contribut...|7402|\n",
            "+-------+--------------------+----+\n",
            "\n"
          ],
          "name": "stdout"
        }
      ]
    },
    {
      "cell_type": "markdown",
      "metadata": {
        "colab_type": "text",
        "id": "sqwahN_tTnmp"
      },
      "source": [
        "## Problem 2. SparkSQL "
      ]
    },
    {
      "cell_type": "code",
      "metadata": {
        "colab_type": "code",
        "id": "Aw3J1GToUxl7",
        "colab": {}
      },
      "source": [
        "title_owner = [\"Woodkid Lila\"\n",
        ",\"Sia Jane\"\n",
        ",\"Ryuichi_Sakamoto Sam\"]\n",
        "\n",
        "lines1 = sc.parallelize(title_owner)\n",
        "columns1 = lines1.map(lambda line: tuple(line.split(\" \")))\n",
        "\n",
        "df1 = ss.createDataFrame(columns1, ['title', 'owner'])\n",
        "df1.createOrReplaceTempView(\"OwnerTable\")\n"
      ],
      "execution_count": 0,
      "outputs": []
    },
    {
      "cell_type": "code",
      "metadata": {
        "colab_type": "code",
        "id": "12CN6Gceu41o",
        "outputId": "d582721a-3662-46e0-cb73-2847d94b8598",
        "colab": {
          "base_uri": "https://localhost:8080/",
          "height": 161
        }
      },
      "source": [
        "selected = ss.sql(\"SELECT OwnerTable.owner, MEAN(WikipediaTable.count) as avg_count_column FROM WikipediaTable \\\n",
        "INNER JOIN OwnerTable ON WikipediaTable.title=OwnerTable.title \\\n",
        "GROUP BY OwnerTable.owner\")\n",
        "                   \n",
        "selected.show()"
      ],
      "execution_count": 10,
      "outputs": [
        {
          "output_type": "stream",
          "text": [
            "+-----+------------------+\n",
            "|owner|  avg_count_column|\n",
            "+-----+------------------+\n",
            "| Lila|1.6666666666666667|\n",
            "|  Sam|               1.0|\n",
            "| Jane|               2.0|\n",
            "+-----+------------------+\n",
            "\n"
          ],
          "name": "stdout"
        }
      ]
    },
    {
      "cell_type": "markdown",
      "metadata": {
        "colab_type": "text",
        "id": "dAf-IHGOW5GV"
      },
      "source": [
        "## Problem #3 SparkRDD "
      ]
    },
    {
      "cell_type": "code",
      "metadata": {
        "colab_type": "code",
        "id": "qAlpJSP4W6xh",
        "outputId": "5050de4d-23a5-4c34-8951-b11ee63cd07b",
        "colab": {
          "base_uri": "https://localhost:8080/",
          "height": 377
        }
      },
      "source": [
        "project_count_tuples = columns.map(lambda t: (t[0], long(t[2])))\n",
        "df = project_count_tuples.distinct().groupByKey().map(lambda x : (x[0], sorted(list(x[1])))).map(lambda x : (x[0],(x[1][(len(x[1])-1)//2] + x[1][len(x[1])//2])/2 )).collect()\n",
        "\n",
        "for i in df:\n",
        "  print('project {} 의 median은 {} 이다.'.format(i[0],i[1]))"
      ],
      "execution_count": 131,
      "outputs": [
        {
          "output_type": "stream",
          "text": [
            "project fr 의 median은 1 이다.\n",
            "project nl 의 median은 1 이다.\n",
            "project pt 의 median은 2 이다.\n",
            "project xh 의 median은 1 이다.\n",
            "project commons.m 의 median은 1 이다.\n",
            "project pl 의 median은 10 이다.\n",
            "project cs 의 median은 1 이다.\n",
            "project zh 의 median은 1 이다.\n",
            "project es 의 median은 3 이다.\n",
            "project de.voy 의 median은 1 이다.\n",
            "project no 의 median은 5 이다.\n",
            "project de 의 median은 1 이다.\n",
            "project sv 의 median은 1 이다.\n",
            "project fa 의 median은 1 이다.\n",
            "project uz 의 median은 1 이다.\n",
            "project en 의 median은 4 이다.\n",
            "project et 의 median은 2 이다.\n",
            "project fi 의 median은 1 이다.\n",
            "project ja 의 median은 1 이다.\n",
            "project he 의 median은 1 이다.\n"
          ],
          "name": "stdout"
        }
      ]
    },
    {
      "cell_type": "markdown",
      "metadata": {
        "id": "GdI1jdFW3W9c",
        "colab_type": "text"
      },
      "source": [
        ""
      ]
    },
    {
      "cell_type": "markdown",
      "metadata": {
        "colab_type": "text",
        "id": "ZwM0rw7vXzxD"
      },
      "source": [
        "## Problem #4 SparkRDD "
      ]
    },
    {
      "cell_type": "code",
      "metadata": {
        "colab_type": "code",
        "id": "n4oIDIEIX2XL",
        "colab": {
          "base_uri": "https://localhost:8080/",
          "height": 53
        },
        "outputId": "ebc986d5-5773-41a5-c2d0-7429c41d0aea"
      },
      "source": [
        "data = [\"1 2 1.0\"\n",
        ",\"1 3 2.0\"\n",
        ",\"1 4 3.0\"\n",
        ",\"2 3 1.0\"\n",
        ",\"2 4 3.0\"\n",
        ",\"2 5 5.0\"]\n",
        "\n",
        "\n",
        "lines = sc.parallelize(data, 1)\n",
        "columns = lines.map(lambda line: tuple(line.split(\" \")))\n",
        "\n",
        "tuples = columns.map(lambda column: (column[0],column[1], float(column[2])))\n",
        "\n",
        "\n",
        "df = tuples.groupBy(lambda x: x[0]).map(lambda x : (max(list(x[1]))))\n",
        "\n",
        "for t in df.collect():\n",
        "  print('{} 에서 가장 먼 점은 {} 이고 거리는 {} 이다.'.format(t[0],t[1],t[2]))\n",
        "\n"
      ],
      "execution_count": 126,
      "outputs": [
        {
          "output_type": "stream",
          "text": [
            "1 에서 가장 먼 점은 4 이고 거리는 3.0 이다.\n",
            "2 에서 가장 먼 점은 5 이고 거리는 5.0 이다.\n"
          ],
          "name": "stdout"
        }
      ]
    },
    {
      "cell_type": "markdown",
      "metadata": {
        "colab_type": "text",
        "id": "_MbiRFq3M-WW"
      },
      "source": [
        "## Problem #5 Calculating Pi"
      ]
    },
    {
      "cell_type": "code",
      "metadata": {
        "colab_type": "code",
        "id": "kGGFBBrXNBm8",
        "colab": {
          "base_uri": "https://localhost:8080/",
          "height": 35
        },
        "outputId": "79aebc63-57fb-4360-f36d-ca2da65a8a23"
      },
      "source": [
        "from random import random\n",
        "\n",
        "spark = SparkSession.builder.appName(\"Spark Pi\").getOrCreate()\n",
        "\n",
        "partitions = 2\n",
        "n = 1000000 * partitions\n",
        "\n",
        "def f(_):\n",
        "  x = random() * 2 - 1\n",
        "  y = random() * 2 - 1\n",
        "  return 1 if x ** 2 + y ** 2 <= 1 else 0\n",
        "\n",
        "num_dots_inside_circle = spark.sparkContext.parallelize(range(1, n + 1), partitions).map(f).reduce(lambda a, b: a + b)\n",
        "\n",
        "      \n",
        "print(\"Pi is roughly %f\" % (4.0 * num_dots_inside_circle / n))"
      ],
      "execution_count": 132,
      "outputs": [
        {
          "output_type": "stream",
          "text": [
            "Pi is roughly 3.141298\n"
          ],
          "name": "stdout"
        }
      ]
    },
    {
      "cell_type": "code",
      "metadata": {
        "colab_type": "code",
        "id": "NA79VywDUd55",
        "colab": {}
      },
      "source": [
        ""
      ],
      "execution_count": 0,
      "outputs": []
    }
  ]
}