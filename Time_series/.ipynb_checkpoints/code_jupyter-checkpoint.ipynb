{
 "cells": [
  {
   "cell_type": "markdown",
   "metadata": {},
   "source": [
    "#### 2. Estimate conditional variances of KOSPI, S&P, and NIKKEI based on EGARCH in the periods of 1995.7.1-2000.6.30 and 2005.7.1-2010.6.30, daily"
   ]
  },
  {
   "cell_type": "markdown",
   "metadata": {},
   "source": [
    "#### 2-1) 1995.7.1 - 2000.6.30"
   ]
  },
  {
   "cell_type": "code",
   "execution_count": null,
   "metadata": {},
   "outputs": [],
   "source": [
    "# 모듈 불러오기\n",
    "from datetime import datetime\n",
    "import pandas_datareader.data as wb"
   ]
  },
  {
   "cell_type": "code",
   "execution_count": null,
   "metadata": {},
   "outputs": [],
   "source": [
    "# 날짜 설정\n",
    "start = datetime(2005,7,1)\n",
    "end = datetime(2010,6,30)"
   ]
  },
  {
   "cell_type": "code",
   "execution_count": null,
   "metadata": {},
   "outputs": [],
   "source": [
    "ko_0 = wb.DataReader('^KS11','yahoo',start,end)\n",
    "ni_0 = wb.DataReader('^N225','yahoo',start,end)\n",
    "snp_0 = wb.DataReader('^GSPC','yahoo',start,end)"
   ]
  },
  {
   "cell_type": "code",
   "execution_count": null,
   "metadata": {},
   "outputs": [],
   "source": [
    "def compute_variance"
   ]
  }
 ],
 "metadata": {
  "kernelspec": {
   "display_name": "Python 3",
   "language": "python",
   "name": "python3"
  }
 },
 "nbformat": 4,
 "nbformat_minor": 2
}
