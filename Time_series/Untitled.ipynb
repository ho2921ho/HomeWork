{
 "cells": [
  {
   "cell_type": "code",
   "execution_count": null,
   "metadata": {},
   "outputs": [],
   "source": [
    "import pandas as pd\n",
    "\n",
    "inflation = pd.read_csv(r'C:\\GitHub\\HomeWork\\Time_series\\Data_inflation.csv', engine = 'python')\n",
    "\n",
    "xt_1 = inflation.iloc[:,1][0:286]\n",
    "yt_1 = inflation.iloc[:,2][0:286]\n",
    "yt = inflation.iloc[:,2][1:287]\n",
    "\n",
    "import pymc3 as pm\n",
    "import numpy as np\n",
    "np.random.seed(1000)\n",
    "import matplotlib as mpl\n",
    "import matplotlib.pyplot as plt\n",
    "\n",
    "with pm.Model() as model: \n",
    "        # PyMC3의 모형은 with 문 안에서 사용된다.\n",
    "    # 사전 확률 정의\n",
    "    beta0 = pm.Normal('beta0', mu=0.5, sd=0.25)\n",
    "    beta1 = pm.Normal('beta1', mu=0.5, sd=0.25)\n",
    "    beta2 = pm.Normal('beta2', mu=0, sd=0.25)\n",
    "    sigma = pm.InverseGamma('sigma', 10, 2)\n",
    "    \n",
    "    # 선형 회귀선 정의\n",
    "    y_est = beta0 + beta1 * yt_1 + beta2 * xt_1 \n",
    "    \n",
    "    # 우도 정의 \n",
    "    likelihood = pm.Normal('y', mu=y_est, sd=sigma, observed=yt)\n",
    "    \n",
    "    # 추정 과정\n",
    "    start = pm.find_MAP()\n",
    "      # 최적화를 사용하여 시작값 추정\n",
    "    step = pm.NUTS(scaling= start)\n",
    "      # MCMC 샘플링 알고리즘 인스턴스 생성\n",
    "    trace = pm.sample(100, step, start=start, progressbar=False)\n",
    "      # NUTS 샘플링을 사용하여 100개의 사후 샘플 생성"
   ]
  },
  {
   "cell_type": "code",
   "execution_count": null,
   "metadata": {},
   "outputs": [],
   "source": [
    "trace[0]"
   ]
  },
  {
   "cell_type": "code",
   "execution_count": null,
   "metadata": {},
   "outputs": [],
   "source": [
    "pm.traceplot(trace, lines={'alpha': 4, 'beta': 2, 'sigma': 2}, figsize=(8, 8))\n",
    "plt.show()"
   ]
  },
  {
   "cell_type": "code",
   "execution_count": null,
   "metadata": {},
   "outputs": [],
   "source": [
    "plt.scatter(x, y, c=y, marker='v', cmap=mpl.cm.jet)\n",
    "plt.colorbar()\n",
    "plt.grid(True)\n",
    "plt.xlabel('x')\n",
    "plt.ylabel('y')\n",
    "for i in range(len(trace)):\n",
    "    plt.plot(x, trace['alpha'][i] + trace['beta'][i] * x)"
   ]
  }
 ],
 "metadata": {
  "kernelspec": {
   "display_name": "Python 3",
   "language": "python",
   "name": "python3"
  }
 },
 "nbformat": 4,
 "nbformat_minor": 2
}
