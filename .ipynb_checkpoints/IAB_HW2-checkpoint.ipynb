{
 "cells": [
  {
   "cell_type": "markdown",
   "metadata": {},
   "source": [
    "# IoT·인공지능·빅데이터 개론 및 실습 (M2177.004900_001) <br> 3/15 Logistic Regerssion & Neural Network with Scikit-Learn\n",
    "\n",
    "* Adapted by Seonwoo Min from the \"An Introduction to Machine Learning with Scikit-learn\" tutorial (http://scikit-learn.org/stable/tutorial/basic/tutorial.html).\n",
    "* Refined by Uiwon Hwang (3/15/2019)\n",
    "\n",
    "In this excercise, we will cover:\n",
    "\n",
    "* Loading an example dataset & preprocessing\n",
    "* Logistic regression & neural network models in scikit-learn\n",
    "* Model training & prediction & evaluation\n",
    "* Model save & load\n",
    "* Homework"
   ]
  },
  {
   "cell_type": "markdown",
   "metadata": {},
   "source": [
    "## 1. Loading an example dataset & preprocessing"
   ]
  },
  {
   "cell_type": "code",
   "execution_count": 4,
   "metadata": {},
   "outputs": [
    {
     "name": "stdout",
     "output_type": "stream",
     "text": [
      "['images', 'data', 'target_names', 'DESCR', 'target']\n"
     ]
    }
   ],
   "source": [
    "from sklearn.datasets import load_digits\n",
    "data = load_digits()\n",
    "print(data.keys())"
   ]
  },
  {
   "cell_type": "code",
   "execution_count": 5,
   "metadata": {},
   "outputs": [
    {
     "name": "stdout",
     "output_type": "stream",
     "text": [
      "('Data: ', (1797, 64))\n",
      "('Label:', (1797,))\n",
      "('Class:', 0, ' Number:', 178)\n",
      "('Class:', 1, ' Number:', 182)\n",
      "('Class:', 2, ' Number:', 177)\n",
      "('Class:', 3, ' Number:', 183)\n",
      "('Class:', 4, ' Number:', 181)\n",
      "('Class:', 5, ' Number:', 182)\n",
      "('Class:', 6, ' Number:', 181)\n",
      "('Class:', 7, ' Number:', 179)\n",
      "('Class:', 8, ' Number:', 174)\n",
      "('Class:', 9, ' Number:', 180)\n"
     ]
    }
   ],
   "source": [
    "# Data shape & statistics\n",
    "print(\"Data: \", data['data'].shape)\n",
    "print(\"Label:\", data['target'].shape)\n",
    "\n",
    "# Print the number of samples for each class\n",
    "import numpy as np\n",
    "#################### To Do #################################\n",
    "for c in range(10):\n",
    "    print(\"Class:\", c, \" Number:\", np.sum(data['target'] == c))\n",
    "############################################################"
   ]
  },
  {
   "cell_type": "code",
   "execution_count": 6,
   "metadata": {
    "scrolled": true
   },
   "outputs": [
    {
     "data": {
      "image/png": "[encoded data removed]",
      "text/plain": [
       "<Figure size 432x288 with 10 Axes>"
      ]
     },
     "metadata": {
      "needs_background": "light"
     },
     "output_type": "display_data"
    }
   ],
   "source": [
    "#############################################################\n",
    "# Data Visaulization\n",
    "#############################################################\n",
    "import matplotlib.pyplot as plt\n",
    "%matplotlib inline\n",
    "\n",
    "#################### To Do #################################\n",
    "# Hint: plt.imshow(data['data'][i].reshape(8,8), cmap=plt.cm.gray_r)\n",
    "for c in range(10):\n",
    "    i = 0\n",
    "    while(1):\n",
    "        if data['target'][i] == c:\n",
    "            plt.subplot(2, 5, c+1)\n",
    "            plt.axis('off')\n",
    "            plt.imshow(data['data'][i].reshape(8,8), cmap=plt.cm.gray_r)\n",
    "            plt.title('Class %d:' % c)\n",
    "            break\n",
    "        i += 1\n",
    "############################################################"
   ]
  },
  {
   "cell_type": "code",
   "execution_count": 9,
   "metadata": {},
   "outputs": [
    {
     "name": "stdout",
     "output_type": "stream",
     "text": [
      "(100, 64)\n",
      "(1697, 64)\n"
     ]
    }
   ],
   "source": [
    "#############################################################\n",
    "# 1st Preprocessing\n",
    "# Use the first 20 samples in each clss as test data\n",
    "# Use the others as training data\n",
    "#############################################################\n",
    "\n",
    "#################### To Do #################################\n",
    "test_indexes, train_indexes = [], []\n",
    "num = [0] * 10\n",
    "for i in range(len(data['target'])):\n",
    "    if num[data['target'][i]] < 10: test_indexes.append(i)\n",
    "    else : train_indexes.append(i)\n",
    "    num[data['target'][i]] += 1\n",
    "\n",
    "test_data, test_target = data['data'][test_indexes], data['target'][test_indexes]\n",
    "train_data, train_target = data['data'][train_indexes], data['target'][train_indexes]\n",
    "##################mm##########################################\n",
    "\n",
    "print(test_data.shape)\n",
    "print(train_data.shape)"
   ]
  },
  {
   "cell_type": "code",
   "execution_count": 10,
   "metadata": {},
   "outputs": [
    {
     "name": "stdout",
     "output_type": "stream",
     "text": [
      "(20, 64)\n",
      "(340, 64)\n"
     ]
    }
   ],
   "source": [
    "#############################################################\n",
    "# 2nd Preprocessing\n",
    "# Let's use only 2 and 3 for binary classification\n",
    "#############################################################\n",
    "\n",
    "#################### To Do #################################\n",
    "test_data23, test_target23 = test_data[(test_target == 2) ^ (test_target == 3)], test_target[(test_target == 2) ^ (test_target == 3)]\n",
    "train_data23, train_target23 = train_data[(train_target == 2) ^ (train_target == 3)], train_target[(train_target == 2) ^ (train_target == 3)]\n",
    "############################################################\n",
    "\n",
    "print(test_data23.shape)\n",
    "print(train_data23.shape)"
   ]
  },
  {
   "cell_type": "markdown",
   "metadata": {},
   "source": [
    "## 2. Logistic regression & neural network models in scikit-learn\n",
    "\n",
    "For full documentations refer to the following links: <br>\n",
    "Logistic Regression: http://scikit-learn.org/stable/modules/generated/sklearn.linear_model.LogisticRegression.html <br>\n",
    "Neural network: http://scikit-learn.org/stable/modules/generated/sklearn.neural_network.MLPClassifier.html#sklearn.neural_network.MLPClassifier"
   ]
  },
  {
   "cell_type": "code",
   "execution_count": 11,
   "metadata": {},
   "outputs": [],
   "source": [
    "from sklearn.linear_model import LogisticRegression\n",
    "from sklearn.neural_network import MLPClassifier\n",
    "\n",
    "LR = LogisticRegression(max_iter=1000, solver='sag')\n",
    "NN = MLPClassifier(hidden_layer_sizes=(10), activation='relu', learning_rate_init=0.01, max_iter=1000)"
   ]
  },
  {
   "cell_type": "markdown",
   "metadata": {},
   "source": [
    "## 3. Model training & prediction & evaluation"
   ]
  },
  {
   "cell_type": "code",
   "execution_count": 12,
   "metadata": {},
   "outputs": [
    {
     "name": "stdout",
     "output_type": "stream",
     "text": [
      "('test_target     :', array([2, 3, 2, 3, 2, 3, 3, 2, 2, 2, 2, 3, 3, 3, 3, 2, 2, 3, 2, 3]))\n",
      "('test_prediction :', array([2, 3, 2, 3, 2, 3, 3, 2, 2, 2, 2, 3, 3, 3, 3, 2, 3, 3, 2, 3]))\n",
      "('train_acc :', 0.9382352941176471)\n",
      "('test_acc  :', 0.95)\n"
     ]
    },
    {
     "name": "stderr",
     "output_type": "stream",
     "text": [
      "/home/student/.conda/envs/iabenv/lib/python2.7/site-packages/sklearn/linear_model/sag.py:334: ConvergenceWarning: The max_iter was reached which means the coef_ did not converge\n",
      "  \"the coef_ did not converge\", ConvergenceWarning)\n"
     ]
    }
   ],
   "source": [
    "#############################################################\n",
    "# Logistic regression model\n",
    "#############################################################\n",
    "# Training\n",
    "LR = LogisticRegression(max_iter=1, solver='sag')\n",
    "LR.fit(train_data23, train_target23)\n",
    "\n",
    "# Prediction\n",
    "train_predict23 = LR.predict(train_data23)\n",
    "test_predict23 = LR.predict(test_data23)\n",
    "print(\"test_target     :\", test_target23)\n",
    "print(\"test_prediction :\", test_predict23)\n",
    "\n",
    "#################### To Do #################################\n",
    "# Evaluation\n",
    "train_acc23 = np.sum(train_target23 == train_predict23) / float(len(train_target23))\n",
    "test_acc23 = np.sum(test_target23 == test_predict23) / float(len(test_predict23))\n",
    "############################################################\n",
    "\n",
    "print(\"train_acc :\", train_acc23)\n",
    "print(\"test_acc  :\", test_acc23)"
   ]
  },
  {
   "cell_type": "code",
   "execution_count": 13,
   "metadata": {},
   "outputs": [
    {
     "name": "stdout",
     "output_type": "stream",
     "text": [
      "('test_target     :', array([2, 3, 2, 3, 2, 3, 3, 2, 2, 2, 2, 3, 3, 3, 3, 2, 2, 3, 2, 3]))\n",
      "('test_prediction :', array([2, 2, 2, 2, 2, 2, 2, 2, 2, 2, 2, 2, 2, 2, 2, 2, 2, 2, 2, 2]))\n",
      "('train_acc :', 0.5058823529411764)\n",
      "('test_acc  :', 0.5)\n"
     ]
    },
    {
     "name": "stderr",
     "output_type": "stream",
     "text": [
      "/home/student/.conda/envs/iabenv/lib/python2.7/site-packages/sklearn/neural_network/multilayer_perceptron.py:562: ConvergenceWarning: Stochastic Optimizer: Maximum iterations (1) reached and the optimization hasn't converged yet.\n",
      "  % self.max_iter, ConvergenceWarning)\n"
     ]
    }
   ],
   "source": [
    "#############################################################\n",
    "# Neural network model\n",
    "#############################################################\n",
    "\n",
    "#################### To Do #################################\n",
    "# Training\n",
    "NN = MLPClassifier(hidden_layer_sizes=(10), activation='relu', learning_rate_init=0.001, max_iter=1)\n",
    "NN.fit(train_data23, train_target23)\n",
    "\n",
    "# Prediction\n",
    "train_predict23 = NN.predict(train_data23)\n",
    "test_predict23 = NN.predict(test_data23)\n",
    "print(\"test_target     :\", test_target23)\n",
    "print(\"test_prediction :\", test_predict23)\n",
    "\n",
    "# Evaluation\n",
    "train_acc23 = np.sum(train_target23 == train_predict23) / float(len(train_target23))\n",
    "test_acc23 = np.sum(test_target23 == test_predict23) / float(len(test_predict23))\n",
    "print(\"train_acc :\", train_acc23)\n",
    "print(\"test_acc  :\", test_acc23)\n",
    "############################################################"
   ]
  },
  {
   "cell_type": "markdown",
   "metadata": {},
   "source": [
    "## 4. Model save & load"
   ]
  },
  {
   "cell_type": "code",
   "execution_count": 15,
   "metadata": {},
   "outputs": [
    {
     "name": "stdout",
     "output_type": "stream",
     "text": [
      "('test_target     :', array([2, 3, 2, 3, 2, 3, 3, 2, 2, 2, 2, 3, 3, 3, 3, 2, 2, 3, 2, 3]))\n",
      "('test_prediction :', array([2, 2, 2, 2, 2, 2, 2, 2, 2, 2, 2, 2, 2, 2, 2, 2, 2, 2, 2, 2]))\n",
      "('train_acc :', 0.5058823529411764)\n",
      "('test_acc  :', 0.5)\n"
     ]
    }
   ],
   "source": [
    "from sklearn.externals import joblib\n",
    "\n",
    "# save\n",
    "joblib.dump(NN, 'NN23.joblib') \n",
    "\n",
    "# load\n",
    "NN_load = joblib.load('NN23.joblib') \n",
    "\n",
    "#################### To Do #################################\n",
    "# Prediction\n",
    "train_predict23 = NN_load.predict(train_data23)\n",
    "test_predict23 = NN_load.predict(test_data23)\n",
    "print(\"test_target     :\", test_target23)\n",
    "print(\"test_prediction :\", test_predict23)\n",
    "\n",
    "# Evaluation\n",
    "train_acc23 = np.sum(train_target23 == train_predict23) / float(len(train_target23))\n",
    "test_acc23 = np.sum(test_target23 == test_predict23) / float(len(test_predict23))\n",
    "print(\"train_acc :\", train_acc23)\n",
    "print(\"test_acc  :\", test_acc23)\n",
    "############################################################"
   ]
  },
  {
   "cell_type": "markdown",
   "metadata": {},
   "source": [
    "## 5. Homework\n",
    "Now it's your job to experiment with models and achieve higher accuracy on the  **<font color=red>on the entire dataset</font>**. <br>\n",
    "Try different hyperparameter configurations and save the final model as \"final_model.joblib\" <br>\n",
    "Submit the current **notebook file and the saved final model** on ETL.\n",
    "* Maximum 10 points for >= 97% accuracy on the test set\n",
    "* Maximum 8 points for >= 96% accuracy on the test set\n",
    "* Maximum 6 points for >= 95% accuracy on the test set\n",
    "* Maximum 4 points for >= 94% accuracy on the test set"
   ]
  },
  {
   "cell_type": "code",
   "execution_count": 16,
   "metadata": {},
   "outputs": [
    {
     "name": "stdout",
     "output_type": "stream",
     "text": [
      "('test_target     :', array([0, 1, 2, 3, 4, 5, 6, 7, 8, 9, 0, 1, 2, 3, 4, 5, 6, 7, 8, 9, 0, 1,\n",
      "       2, 3, 4, 5, 6, 7, 8, 9, 0, 9, 5, 5, 6, 5, 0, 9, 8, 9, 8, 4, 1, 7,\n",
      "       7, 3, 5, 1, 0, 0, 2, 2, 7, 8, 2, 0, 1, 2, 6, 3, 3, 7, 3, 3, 4, 6,\n",
      "       6, 6, 4, 9, 1, 5, 0, 9, 5, 2, 8, 2, 0, 1, 7, 6, 3, 2, 1, 7, 4, 6,\n",
      "       3, 1, 9, 7, 8, 4, 4, 5, 9, 4, 8, 8]))\n",
      "('test_prediction :', array([0, 1, 8, 3, 4, 9, 6, 7, 8, 9, 0, 1, 2, 3, 4, 5, 6, 7, 8, 9, 0, 1,\n",
      "       2, 3, 4, 5, 6, 7, 8, 9, 0, 9, 5, 5, 6, 5, 0, 5, 8, 9, 8, 4, 1, 7,\n",
      "       7, 3, 5, 1, 0, 0, 2, 2, 7, 8, 7, 0, 1, 1, 6, 3, 3, 7, 3, 3, 4, 6,\n",
      "       6, 6, 4, 9, 1, 5, 0, 9, 5, 1, 8, 1, 0, 1, 7, 6, 3, 2, 1, 7, 4, 6,\n",
      "       3, 1, 9, 7, 8, 4, 4, 5, 9, 4, 8, 8]))\n",
      "('train_acc :', 1.0)\n",
      "('test_acc  :', 0.93)\n"
     ]
    }
   ],
   "source": [
    "from sklearn.neural_network import MLPClassifier\n",
    "#############################################################\n",
    "# Neural network model\n",
    "#############################################################\n",
    "\n",
    "#################### To Do #################################\n",
    "# Training\n",
    "NN = MLPClassifier(random_state = 201310299)\n",
    "NN.fit(train_data, train_target)\n",
    "\n",
    "# Prediction\n",
    "train_predict = NN.predict(train_data)\n",
    "test_predict = NN.predict(test_data)\n",
    "print(\"test_target     :\", test_target)\n",
    "print(\"test_prediction :\", test_predict)\n",
    "\n",
    "# Evaluation\n",
    "train_acc = np.sum(train_target  == train_predict) / float(len(train_target))\n",
    "test_acc = np.sum(test_target == test_predict) / float(len(test_predict))\n",
    "print(\"train_acc :\", train_acc)\n",
    "print(\"test_acc  :\", test_acc)"
   ]
  },
  {
   "cell_type": "code",
   "execution_count": 17,
   "metadata": {},
   "outputs": [
    {
     "data": {
      "image/png": "[encoded data removed]",
      "text/plain": [
       "<Figure size 432x288 with 1 Axes>"
      ]
     },
     "metadata": {
      "needs_background": "light"
     },
     "output_type": "display_data"
    }
   ],
   "source": [
    "# tuning hyper parameters\n",
    "# hidden_layer_sizes\n",
    "from sklearn.model_selection import validation_curve\n",
    "\n",
    "X, y = train_data, train_target\n",
    "# Create range of values for parameter\n",
    "param_range = np.arange(1, 500, 5)\n",
    "\n",
    "# Calculate accuracy on training and test set using range of parameter values\n",
    "train_scores, test_scores = validation_curve(MLPClassifier(random_state = 201310299), \n",
    "                                             X, \n",
    "                                             y, \n",
    "                                             param_name=\"hidden_layer_sizes\", \n",
    "                                             param_range=param_range,\n",
    "                                             cv=3, \n",
    "                                             scoring=\"accuracy\", \n",
    "                                             n_jobs=-1)\n",
    "\n",
    "\n",
    "# Calculate mean and standard deviation for training set scores\n",
    "train_mean = np.mean(train_scores, axis=1)\n",
    "train_std = np.std(train_scores, axis=1)\n",
    "\n",
    "# Calculate mean and standard deviation for test set scores\n",
    "test_mean = np.mean(test_scores, axis=1)\n",
    "test_std = np.std(test_scores, axis=1)\n",
    "\n",
    "# Plot mean accuracy scores for training and test sets\n",
    "plt.plot(param_range, train_mean, label=\"Training score\", color=\"black\")\n",
    "plt.plot(param_range, test_mean, label=\"Cross-validation score\", color=\"dimgrey\")\n",
    "\n",
    "# Plot accurancy bands for training and test sets\n",
    "plt.fill_between(param_range, train_mean - train_std, train_mean + train_std, color=\"gray\")\n",
    "plt.fill_between(param_range, test_mean - test_std, test_mean + test_std, color=\"gainsboro\")\n",
    "\n",
    "# Create plot\n",
    "plt.title(\"Validation Curve With NN\")\n",
    "plt.xlabel(\"parameter value\")\n",
    "plt.ylabel(\"Accuracy Score\")\n",
    "plt.tight_layout()\n",
    "plt.legend(loc=\"best\")\n",
    "plt.show()\n"
   ]
  },
  {
   "cell_type": "code",
   "execution_count": null,
   "metadata": {},
   "outputs": [],
   "source": [
    "# 300정도"
   ]
  },
  {
   "cell_type": "code",
   "execution_count": 68,
   "metadata": {},
   "outputs": [
    {
     "data": {
      "image/png": "[encoded data removed]",
      "text/plain": [
       "<Figure size 432x288 with 1 Axes>"
      ]
     },
     "metadata": {
      "needs_background": "light"
     },
     "output_type": "display_data"
    }
   ],
   "source": [
    "# tuning hyper parameters\n",
    "# hidden_layer_sizes\n",
    "# Create range of values for parameter\n",
    "param_range = np.arange(0.00001, 0.0005, 0.00005)\n",
    "\n",
    "# Calculate accuracy on training and test set using range of parameter values\n",
    "train_scores, test_scores = validation_curve(MLPClassifier(random_state = 201310299), \n",
    "                                             X, \n",
    "                                             y, \n",
    "                                             param_name=\"alpha\", \n",
    "                                             param_range=param_range,\n",
    "                                             cv=3, \n",
    "                                             scoring=\"accuracy\", \n",
    "                                             n_jobs=-1)\n",
    "\n",
    "\n",
    "# Calculate mean and standard deviation for training set scores\n",
    "train_mean = np.mean(train_scores, axis=1)\n",
    "train_std = np.std(train_scores, axis=1)\n",
    "\n",
    "# Calculate mean and standard deviation for test set scores\n",
    "test_mean = np.mean(test_scores, axis=1)\n",
    "test_std = np.std(test_scores, axis=1)\n",
    "\n",
    "# Plot mean accuracy scores for training and test sets\n",
    "plt.plot(param_range, train_mean, label=\"Training score\", color=\"black\")\n",
    "plt.plot(param_range, test_mean, label=\"Cross-validation score\", color=\"dimgrey\")\n",
    "\n",
    "# Plot accurancy bands for training and test sets\n",
    "plt.fill_between(param_range, train_mean - train_std, train_mean + train_std, color=\"gray\")\n",
    "plt.fill_between(param_range, test_mean - test_std, test_mean + test_std, color=\"gainsboro\")\n",
    "\n",
    "# Create plot\n",
    "plt.title(\"Validation Curve With NN\")\n",
    "plt.xlabel(\"parameter value\")\n",
    "plt.ylabel(\"Accuracy Score\")\n",
    "plt.tight_layout()\n",
    "plt.legend(loc=\"best\")\n",
    "plt.show()\n"
   ]
  },
  {
   "cell_type": "code",
   "execution_count": null,
   "metadata": {},
   "outputs": [],
   "source": [
    "# alpha 값은 별 영향이 없어보인다. "
   ]
  },
  {
   "cell_type": "code",
   "execution_count": 67,
   "metadata": {},
   "outputs": [
    {
     "data": {
      "image/png": "[encoded data removed]",
      "text/plain": [
       "<Figure size 432x288 with 1 Axes>"
      ]
     },
     "metadata": {
      "needs_background": "light"
     },
     "output_type": "display_data"
    }
   ],
   "source": [
    "# tuning hyper parameters\n",
    "# hidden_layer_sizes\n",
    "# Create range of values for parameter\n",
    "param_range = np.arange(1, 500, 100)\n",
    "\n",
    "# Calculate accuracy on training and test set using range of parameter values\n",
    "train_scores, test_scores = validation_curve(MLPClassifier(random_state = 201310299), \n",
    "                                             X, \n",
    "                                             y, \n",
    "                                             param_name=\"max_iter\", \n",
    "                                             param_range=param_range,\n",
    "                                             cv=3, \n",
    "                                             scoring=\"accuracy\", \n",
    "                                             n_jobs=-1)\n",
    "\n",
    "\n",
    "# Calculate mean and standard deviation for training set scores\n",
    "train_mean = np.mean(train_scores, axis=1)\n",
    "train_std = np.std(train_scores, axis=1)\n",
    "\n",
    "# Calculate mean and standard deviation for test set scores\n",
    "test_mean = np.mean(test_scores, axis=1)\n",
    "test_std = np.std(test_scores, axis=1)\n",
    "\n",
    "# Plot mean accuracy scores for training and test sets\n",
    "plt.plot(param_range, train_mean, label=\"Training score\", color=\"black\")\n",
    "plt.plot(param_range, test_mean, label=\"Cross-validation score\", color=\"dimgrey\")\n",
    "\n",
    "# Plot accurancy bands for training and test sets\n",
    "plt.fill_between(param_range, train_mean - train_std, train_mean + train_std, color=\"gray\")\n",
    "plt.fill_between(param_range, test_mean - test_std, test_mean + test_std, color=\"gainsboro\")\n",
    "\n",
    "# Create plot\n",
    "plt.title(\"Validation Curve With NN\")\n",
    "plt.xlabel(\"parameter value\")\n",
    "plt.ylabel(\"Accuracy Score\")\n",
    "plt.tight_layout()\n",
    "plt.legend(loc=\"best\")\n",
    "plt.show()\n"
   ]
  },
  {
   "cell_type": "code",
   "execution_count": null,
   "metadata": {},
   "outputs": [],
   "source": [
    "# 100정도 넘어가면 별 차이 없음. "
   ]
  },
  {
   "cell_type": "code",
   "execution_count": 76,
   "metadata": {},
   "outputs": [
    {
     "data": {
      "image/png": "[encoded data removed]",
      "text/plain": [
       "<Figure size 432x288 with 1 Axes>"
      ]
     },
     "metadata": {
      "needs_background": "light"
     },
     "output_type": "display_data"
    }
   ],
   "source": [
    "# tuning hyper parameters\n",
    "# hidden_layer_sizes\n",
    "# Create range of values for parameter\n",
    "param_range = np.arange(0.0001, 0.003,0.0001)\n",
    "\n",
    "# Calculate accuracy on training and test set using range of parameter values\n",
    "train_scores, test_scores = validation_curve(MLPClassifier(random_state = 201310299), \n",
    "                                             X, \n",
    "                                             y, \n",
    "                                             param_name=\"learning_rate_init\", \n",
    "                                             param_range=param_range,\n",
    "                                             cv=3, \n",
    "                                             scoring=\"accuracy\", \n",
    "                                             n_jobs=-1)\n",
    "\n",
    "\n",
    "# Calculate mean and standard deviation for training set scores\n",
    "train_mean = np.mean(train_scores, axis=1)\n",
    "train_std = np.std(train_scores, axis=1)\n",
    "\n",
    "# Calculate mean and standard deviation for test set scores\n",
    "test_mean = np.mean(test_scores, axis=1)\n",
    "test_std = np.std(test_scores, axis=1)\n",
    "\n",
    "# Plot mean accuracy scores for training and test sets\n",
    "plt.plot(param_range, train_mean, label=\"Training score\", color=\"black\")\n",
    "plt.plot(param_range, test_mean, label=\"Cross-validation score\", color=\"dimgrey\")\n",
    "\n",
    "# Plot accurancy bands for training and test sets\n",
    "plt.fill_between(param_range, train_mean - train_std, train_mean + train_std, color=\"gray\")\n",
    "plt.fill_between(param_range, test_mean - test_std, test_mean + test_std, color=\"gainsboro\")\n",
    "\n",
    "# Create plot\n",
    "plt.title(\"Validation Curve With NN\")\n",
    "plt.xlabel(\"parameter value\")\n",
    "plt.ylabel(\"Accuracy Score\")\n",
    "plt.tight_layout()\n",
    "plt.legend(loc=\"best\")\n",
    "plt.show()\n"
   ]
  },
  {
   "cell_type": "code",
   "execution_count": null,
   "metadata": {},
   "outputs": [],
   "source": [
    "# 0.0005 이상이면 별로.."
   ]
  },
  {
   "cell_type": "code",
   "execution_count": null,
   "metadata": {},
   "outputs": [],
   "source": [
    "# 상기 결과를 바탕으로 모델을 만들자. "
   ]
  },
  {
   "cell_type": "code",
   "execution_count": 18,
   "metadata": {},
   "outputs": [
    {
     "name": "stdout",
     "output_type": "stream",
     "text": [
      "('test_target     :', array([0, 1, 2, 3, 4, 5, 6, 7, 8, 9, 0, 1, 2, 3, 4, 5, 6, 7, 8, 9, 0, 1,\n",
      "       2, 3, 4, 5, 6, 7, 8, 9, 0, 9, 5, 5, 6, 5, 0, 9, 8, 9, 8, 4, 1, 7,\n",
      "       7, 3, 5, 1, 0, 0, 2, 2, 7, 8, 2, 0, 1, 2, 6, 3, 3, 7, 3, 3, 4, 6,\n",
      "       6, 6, 4, 9, 1, 5, 0, 9, 5, 2, 8, 2, 0, 1, 7, 6, 3, 2, 1, 7, 4, 6,\n",
      "       3, 1, 9, 7, 8, 4, 4, 5, 9, 4, 8, 8]))\n",
      "('test_prediction :', array([0, 1, 2, 3, 4, 9, 6, 7, 8, 9, 0, 1, 2, 3, 4, 5, 6, 7, 8, 9, 0, 1,\n",
      "       2, 3, 4, 5, 6, 7, 8, 9, 0, 9, 5, 5, 6, 5, 0, 5, 8, 9, 8, 4, 1, 7,\n",
      "       7, 3, 5, 1, 0, 0, 2, 2, 7, 8, 2, 0, 1, 2, 6, 3, 3, 7, 3, 3, 4, 6,\n",
      "       6, 6, 4, 9, 1, 5, 0, 9, 5, 2, 8, 1, 0, 1, 7, 6, 3, 2, 1, 7, 4, 6,\n",
      "       3, 1, 9, 7, 8, 4, 4, 5, 9, 4, 8, 8]))\n",
      "('train_acc :', 1.0)\n",
      "('test_acc  :', 0.97)\n"
     ]
    }
   ],
   "source": [
    "# Training\n",
    "NN = MLPClassifier(hidden_layer_sizes = 300,max_iter=100,learning_rate_init = 0.0005,random_state = 201310299)\n",
    "NN.fit(train_data, train_target)\n",
    "\n",
    "# Prediction\n",
    "train_predict = NN.predict(train_data)\n",
    "test_predict = NN.predict(test_data)\n",
    "print(\"test_target     :\", test_target)\n",
    "print(\"test_prediction :\", test_predict)\n",
    "\n",
    "# Evaluation\n",
    "train_acc = np.sum(train_target  == train_predict) / float(len(train_target))\n",
    "test_acc = np.sum(test_target == test_predict) / float(len(test_predict))\n",
    "print(\"train_acc :\", train_acc)\n",
    "print(\"test_acc  :\", test_acc)"
   ]
  },
  {
   "cell_type": "code",
   "execution_count": 19,
   "metadata": {},
   "outputs": [
    {
     "name": "stdout",
     "output_type": "stream",
     "text": [
      "('test_target     :', array([0, 1, 2, 3, 4, 5, 6, 7, 8, 9, 0, 1, 2, 3, 4, 5, 6, 7, 8, 9, 0, 1,\n",
      "       2, 3, 4, 5, 6, 7, 8, 9, 0, 9, 5, 5, 6, 5, 0, 9, 8, 9, 8, 4, 1, 7,\n",
      "       7, 3, 5, 1, 0, 0, 2, 2, 7, 8, 2, 0, 1, 2, 6, 3, 3, 7, 3, 3, 4, 6,\n",
      "       6, 6, 4, 9, 1, 5, 0, 9, 5, 2, 8, 2, 0, 1, 7, 6, 3, 2, 1, 7, 4, 6,\n",
      "       3, 1, 9, 7, 8, 4, 4, 5, 9, 4, 8, 8]))\n",
      "('test_prediction :', array([0, 1, 2, 3, 4, 9, 6, 7, 8, 9, 0, 1, 2, 3, 4, 5, 6, 7, 8, 9, 0, 1,\n",
      "       2, 3, 4, 5, 6, 7, 8, 9, 0, 9, 5, 5, 6, 5, 0, 5, 8, 9, 8, 4, 1, 7,\n",
      "       7, 3, 5, 1, 0, 0, 2, 2, 7, 8, 2, 0, 1, 2, 6, 3, 3, 7, 3, 3, 4, 6,\n",
      "       6, 6, 4, 9, 1, 5, 0, 9, 5, 2, 8, 1, 0, 1, 7, 6, 3, 2, 1, 7, 4, 6,\n",
      "       3, 1, 9, 7, 8, 4, 4, 5, 9, 4, 8, 8]))\n",
      "('train_acc :', 1.0)\n",
      "('test_acc  :', 0.97)\n"
     ]
    }
   ],
   "source": [
    "from sklearn.externals import joblib\n",
    "\n",
    "# save\n",
    "joblib.dump(NN, 'final_model.joblib') \n",
    "\n",
    "# load\n",
    "NN_load = joblib.load('final_model.joblib') \n",
    "\n",
    "#################### To Do #################################\n",
    "# Prediction\n",
    "train_predict23 = NN_load.predict(train_data)\n",
    "test_predict23 = NN_load.predict(test_data)\n",
    "print(\"test_target     :\", test_target)\n",
    "print(\"test_prediction :\", test_predict)\n",
    "\n",
    "# Evaluation\n",
    "train_acc = np.sum(train_target == train_predict) / float(len(train_target))\n",
    "test_acc = np.sum(test_target == test_predict) / float(len(test_predict))\n",
    "print(\"train_acc :\", train_acc)\n",
    "print(\"test_acc  :\", test_acc)\n",
    "############################################################"
   ]
  },
  {
   "cell_type": "code",
   "execution_count": null,
   "metadata": {},
   "outputs": [],
   "source": []
  },
  {
   "cell_type": "code",
   "execution_count": null,
   "metadata": {},
   "outputs": [],
   "source": []
  },
  {
   "cell_type": "markdown",
   "metadata": {},
   "source": [
    "### Describe what you did here\n",
    "In this cell you should also write an explanation of what you did, any additional features that you implemented, and any visualizations or graphs that you make in the process of training and evaluating your model.\n",
    "* Maximum 10 points"
   ]
  },
  {
   "cell_type": "markdown",
   "metadata": {},
   "source": [
    "하이퍼 파라미터의 영향을 공정하게 비교하기 위해 랜덤시드를 학번(201310299)으로 고정했다.\n",
    "NN의 디폴트 파라미터로 예측한 결과 검정정확도가 0.93이 나왔다.\n",
    "조정할 하이퍼 파라미터는 hidden_layer_sizes,alpha,max_iter,learning_rate_init 총 4개를 대상으로 했다. \n",
    "하이퍼 파라미터 조정은 validation을 통해 가장 성능이 좋은 값을 찾아 각각 찾은 다음, 최종 모델에 사용했다.\n",
    "결과는 다음과 같다. \n",
    "\n",
    "hidden_layer_sizes는 300개까지 증가하면 성능이 좋아지지만 그 이후로는 별 차이가 없었다. \n",
    "alpha는 별 영향이 없어 보였고 증가할 수 록 성능이 떨어지는 경향이 다소 있었다. \n",
    "max_iter은 100번을 기점으로 큰 변화가 없었다. \n",
    "learning_rate_init은 0.0005이하로는 꾸준히 성능이 향상되었지만 그 이상으로는 변동이 심하게 나타났다. \n",
    "\n",
    "\n",
    "이상의 결과를 바탕으로 최종모델\n",
    "NN = MLPClassifier(hidden_layer_sizes = 300,max_iter=100,learning_rate_init = 0.0005,random_state = 201310299)를 만들었다.\n",
    "그 결과 검정정확도가 0.97 이상이 나왔다!"
   ]
  }
 ],
 "metadata": {
  "kernelspec": {
   "display_name": "Python 3",
   "language": "python",
   "name": "python3"
  },
  "language_info": {
   "codemirror_mode": {
    "name": "ipython",
    "version": 3
   },
   "file_extension": ".py",
   "mimetype": "text/x-python",
   "name": "python",
   "nbconvert_exporter": "python",
   "pygments_lexer": "ipython3",
   "version": "3.7.0"
  }
 },
 "nbformat": 4,
 "nbformat_minor": 1
}
