{
 "cells": [
  {
   "cell_type": "markdown",
   "metadata": {
    "colab_type": "text",
    "id": "K9JzWDhUXkh6"
   },
   "source": [
    "Copyright (C) 2019 Software Platform Lab, Seoul National University\n",
    "\n",
    "Licensed under the Apache License, Version 2.0 (the \"License\");\n",
    "you may not use this file except in compliance with the License.\n",
    "You may obtain a copy of the License at\n",
    "    http://www.apache.org/licenses/LICENSE-2.0\n",
    "Unless required by applicable law or agreed to in writing, software\n",
    "distributed under the License is distributed on an \"AS IS\" BASIS,\n",
    "WITHOUT WARRANTIES OR CONDITIONS OF ANY KIND, either express or implied.\n",
    "See the License for the specific language governing permissions and\n",
    "limitations under the License.\n",
    "\n",
    "\n",
    "## Colab Spark Setup"
   ]
  },
  {
   "cell_type": "code",
   "execution_count": null,
   "metadata": {
    "colab": {},
    "colab_type": "code",
    "id": "w82WXCR2VCcV"
   },
   "outputs": [
    {
     "name": "stderr",
     "output_type": "stream",
     "text": [
      "'apt-get' is not recognized as an internal or external command,\n",
      "operable program or batch file.\n",
      "'apt-get' is not recognized as an internal or external command,\n",
      "operable program or batch file.\n"
     ]
    }
   ],
   "source": [
    "!apt-get update\n",
    "!apt-get install openjdk-8-jdk-headless -q\n",
    "!curl http://mirror.cogentco.com/pub/apache/spark/spark-2.4.3/spark-2.4.3-bin-hadoop2.7.tgz --output spark-2.4.3-bin-hadoop2.7.tgz\n",
    "!tar xf spark-2.4.3-bin-hadoop2.7.tgz\n",
    "!pip install -q findspark"
   ]
  },
  {
   "cell_type": "code",
   "execution_count": 0,
   "metadata": {
    "colab": {},
    "colab_type": "code",
    "id": "sSL4Z8LJHp4F"
   },
   "outputs": [],
   "source": [
    "import os\n",
    "os.environ[\"JAVA_HOME\"] = \"/usr/lib/jvm/java-8-openjdk-amd64\"\n",
    "os.environ[\"SPARK_HOME\"] = \"/content/spark-2.4.3-bin-hadoop2.7\""
   ]
  },
  {
   "cell_type": "markdown",
   "metadata": {
    "colab_type": "text",
    "id": "X-Pvn8rkXuHD"
   },
   "source": [
    "## Wikipedia dataset sample\n",
    "\n",
    "This time we're not using HDFS to load the data. Sample data are loaded by Python code directly.\n",
    "\n",
    "The data has four fields: project, title, pageview count and size."
   ]
  },
  {
   "cell_type": "code",
   "execution_count": 0,
   "metadata": {
    "colab": {},
    "colab_type": "code",
    "id": "fe9CpOJcPPfb"
   },
   "outputs": [],
   "source": [
    "wikipedia_data_sample = [\"commons.m File:Gemblong.JPG 1 9717\"\n",
    ",\"pl Beata_Tyszkiewicz 10 207378\"\n",
    ",\"en Special:RecentChangesLinked/Roswell_(TV_series) 1 14617\"\n",
    ",\"de Grafische_Benutzeroberfl%C3%A4che 1 22549\"\n",
    ",\"en Simeon_I_of_Bulgaria 5 385793\"\n",
    ",\"en Rainbow_Six_(novel) 8 122792\"\n",
    ",\"es Pediatr%C3%ADa 5 73598\"\n",
    ",\"sv Ett_uts%C3%B6kt_universum 1 9499\"\n",
    ",\"en Video_game_content_rating_system 4 112324\"\n",
    ",\"es Yuno_Gasai 2 55260\"\n",
    ",\"en File:Georg_Wilhelm_Friedrich_Hegel00.jpg 1 43395\"\n",
    ",\"en Anestia_ombrophanes 1 8881\"\n",
    ",\"et Seitse 2 84874\"\n",
    ",\"en And_I_Am_Telling_You_I%27m_Not_Going 4 85690\"\n",
    ",\"he %D7%A4%D7%A8%D7%93%D7%99%D7%92%D7%9E%D7%94 1 13887\"\n",
    ",\"zh File:Pictogram_voting_keep-green.svg 1 15106\"\n",
    ",\"sv Special:Senaste_relaterade_%C3%A4ndringar/Homestead,_Florida 1 7677\"\n",
    ",\"pt Categoria:Ambientes_de_desenvolvimento_integrado_livres 1 8151\"\n",
    ",\"de.voy Plattensee 1 43748\"\n",
    ",\"en Sia 1 8938\"\n",
    ",\"en Category:Toronto_Toros_players 2 0\"\n",
    ",\"en Special:Export/Helsinki_Accords 1 19899\"\n",
    ",\"xh Special:Contributions/Kpeterzell 1 5883\"\n",
    ",\"nl Sia 1 0\"\n",
    ",\"no Sia 5 87075\"\n",
    ",\"en Special:Contributions/2.31.218.202 1 7402\"\n",
    ",\"es Sia 1 10329\"\n",
    ",\"de Datei:BSicon_uhKBHFe.svg 1 9786\"\n",
    ",\"en Randolph_County,_Alabama 1 21431\"\n",
    ",\"es Woodkid 3 70494\"\n",
    ",\"en Tu_Bishvat 3 56438\"\n",
    ",\"cs Radiohead 1 14325\"\n",
    ",\"es Naturaleza_sangre 1 9286\"\n",
    ",\"en Anatolia_(disambiguation) 1 7980\"\n",
    ",\"pt Woodkid 1 8982\"\n",
    ",\"pt Titanoboa_cerrejonensis 5 64540\"\n",
    ",\"commons.m Woodkid 1 19278\"\n",
    ",\"fi Matti_Inkinen 1 10138\"\n",
    ",\"ja %E3%83%95%E3%82%A1%E3%82%A4%E3%83%AB:Esfahan_(Iran)_Emam_Mosque.JPG 1 33168\"\n",
    ",\"en Psicobloc 1 12739\"\n",
    ",\"en Macael,_Spain 1 12658\"\n",
    ",\"fa Ryuichi_Sakamoto 1 22855\"\n",
    ",\"fr Sp%C3%A9cial:Pages_li%C3%A9es/Fichier:Wiki-ezokuroten5.jpg 1 21955\"\n",
    ",\"nl Overleg_gebruiker:82.171.157.232 1 0\"\n",
    ",\"en Thomas_%26_Mack_Center 2 41010\"\n",
    ",\"en Warren_Beatty 49 2631986\"\n",
    ",\"uz Auberville 1 11401\"\n",
    ",\"es Naturaleza_sangrea 10 9286\"\n",
    ",\"pt Queima_de_sutis 2 8982\"]"
   ]
  },
  {
   "cell_type": "code",
   "execution_count": 0,
   "metadata": {
    "colab": {},
    "colab_type": "code",
    "id": "6n8go8ojHp_E"
   },
   "outputs": [],
   "source": [
    "import findspark\n",
    "\n",
    "findspark.init()\n",
    "\n",
    "from pyspark.sql import SparkSession\n",
    "\n",
    "ss = SparkSession.builder.master(\"local[*]\").getOrCreate()\n",
    "sc = ss.sparkContext\n",
    "\n",
    "# Parallelize the data and split into columns\n",
    "lines = sc.parallelize(wikipedia_data_sample)\n",
    "columns = lines.map(lambda line: tuple(line.split(\" \")))"
   ]
  },
  {
   "cell_type": "markdown",
   "metadata": {
    "colab_type": "text",
    "id": "KgEM6fA2YaPz"
   },
   "source": [
    "## Problem 1. SparkSQL \n"
   ]
  },
  {
   "cell_type": "code",
   "execution_count": 0,
   "metadata": {
    "colab": {},
    "colab_type": "code",
    "id": "Z650qgjHTFLM"
   },
   "outputs": [],
   "source": [
    "# Create a Spark DataFrame from wikipedia_data_sample (equivalent of an 'SQL table' in Spark)\n",
    "df = ss.createDataFrame(columns, ['project', 'title', 'count', 'size'])\n",
    "\n",
    "# Create a table view called \"WikipediaTable\"\n",
    "df.createOrReplaceTempView(\"WikipediaTable\")\n",
    "\n",
    "########## ANSWER ##########\n"
   ]
  },
  {
   "cell_type": "markdown",
   "metadata": {
    "colab_type": "text",
    "id": "sqwahN_tTnmp"
   },
   "source": [
    "## Problem 2. SparkSQL "
   ]
  },
  {
   "cell_type": "code",
   "execution_count": 0,
   "metadata": {
    "colab": {},
    "colab_type": "code",
    "id": "Aw3J1GToUxl7"
   },
   "outputs": [],
   "source": [
    "title_owner = [\"Woodkid Lila\"\n",
    ",\"Sia Jane\"\n",
    ",\"Ryuichi_Sakamoto Sam\"]\n",
    "\n",
    "lines1 = sc.parallelize(title_owner)\n",
    "columns1 = lines1.map(lambda line: tuple(line.split(\" \")))\n",
    "\n",
    "df1 = ss.createDataFrame(columns1, ['title', 'owner'])\n",
    "df1.createOrReplaceTempView(\"OwnerTable\")\n",
    "\n",
    "########## ANSWER ##########\n"
   ]
  },
  {
   "cell_type": "markdown",
   "metadata": {
    "colab_type": "text",
    "id": "dAf-IHGOW5GV"
   },
   "source": [
    "## Problem #3 SparkRDD "
   ]
  },
  {
   "cell_type": "code",
   "execution_count": 0,
   "metadata": {
    "colab": {},
    "colab_type": "code",
    "id": "qAlpJSP4W6xh"
   },
   "outputs": [],
   "source": [
    "project_count_tuples = columns.map(lambda t: (t[0], long(t[2])))\n",
    "project_count_tuples.collect()\n",
    "\n",
    "########## ANSWER ##########\n"
   ]
  },
  {
   "cell_type": "markdown",
   "metadata": {
    "colab_type": "text",
    "id": "ZwM0rw7vXzxD"
   },
   "source": [
    "## Problem #4 SparkRDD "
   ]
  },
  {
   "cell_type": "code",
   "execution_count": 0,
   "metadata": {
    "colab": {},
    "colab_type": "code",
    "id": "n4oIDIEIX2XL"
   },
   "outputs": [],
   "source": [
    "data = [\"1 2 1.0\"\n",
    ",\"1 3 2.0\"\n",
    ",\"1 4 3.0\"\n",
    ",\"2 3 1.0\"\n",
    ",\"2 4 3.0\"\n",
    ",\"2 5 5.0\"]\n",
    "\n",
    "########## ANSWER ##########\n"
   ]
  },
  {
   "cell_type": "markdown",
   "metadata": {
    "colab_type": "text",
    "id": "_MbiRFq3M-WW"
   },
   "source": [
    "## Problem #5 Calculating Pi"
   ]
  },
  {
   "cell_type": "code",
   "execution_count": 0,
   "metadata": {
    "colab": {},
    "colab_type": "code",
    "id": "kGGFBBrXNBm8"
   },
   "outputs": [],
   "source": [
    "from random import random\n",
    "\n",
    "spark = SparkSession.builder.appName(\"Spark Pi\").getOrCreate()\n",
    "\n",
    "partitions = 2\n",
    "n = 1000000 * partitions\n",
    "\n",
    "def f(_):\n",
    "  ## ANSWER ##\n",
    "\n",
    "\n",
    "# Generate n random dots and for each dot, calculate its distance from (0, 0).\n",
    "# Count the number of dots whose distance is less or equal to 1\n",
    "num_dots_inside_circle = spark.sparkContext.parallelize(range(1, n + 1), partitions).map(f).reduce(lambda a, b: a + b)\n",
    "\n",
    "      \n",
    "print(\"Pi is roughly %f\" % (4.0 * num_dots_inside_circle / n))"
   ]
  },
  {
   "cell_type": "code",
   "execution_count": 0,
   "metadata": {
    "colab": {},
    "colab_type": "code",
    "id": "NA79VywDUd55"
   },
   "outputs": [],
   "source": []
  }
 ],
 "metadata": {
  "colab": {
   "collapsed_sections": [],
   "name": "190524_IAB_HW.ipynb",
   "provenance": [],
   "version": "0.3.2"
  },
  "kernelspec": {
   "display_name": "Python 3",
   "language": "python",
   "name": "python3"
  },
  "language_info": {
   "codemirror_mode": {
    "name": "ipython",
    "version": 3
   },
   "file_extension": ".py",
   "mimetype": "text/x-python",
   "name": "python",
   "nbconvert_exporter": "python",
   "pygments_lexer": "ipython3",
   "version": "3.7.3"
  }
 },
 "nbformat": 4,
 "nbformat_minor": 1
}
